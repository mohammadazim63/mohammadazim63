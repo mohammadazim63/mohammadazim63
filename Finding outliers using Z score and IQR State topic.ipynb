{
 "cells": [
  {
   "cell_type": "markdown",
   "id": "7f63704e",
   "metadata": {},
   "source": [
    "# What is an outliers?\n",
    "\n",
    "An outlier is a data point in a dataset that is distance from all the obsetvation. A data point that lies outside the overall distribution of the dataset."
   ]
  },
  {
   "cell_type": "code",
   "execution_count": 38,
   "id": "6f5477ea",
   "metadata": {},
   "outputs": [],
   "source": [
    "import numpy as np\n",
    "import matplotlib.pyplot as plt\n",
    "%matplotlib inline"
   ]
  },
  {
   "cell_type": "markdown",
   "id": "b0114758",
   "metadata": {},
   "source": [
    "# What are the criteria to identify an outliers?\n",
    "\n",
    "1.Data point that falls outside of 1.5 times of an interquartile range above the 3rd qaurtile and below the 1st qaurtile\n",
    "\n",
    "2.Data point that falls outside of 3 standard deviation. we can use a Z-score and if the Z-score falls outside of 2 standard deviation\n",
    "\n",
    "# What is the reason For an outliers in a dataset?\n",
    "\n",
    "1.Variability in the data\n",
    "\n",
    "2.An experimental measurement error\n",
    "\n",
    "# What are the impacts of having outliers in a dataset?\n",
    "\n",
    "1.it causes various problems during our statitical analysis\n",
    "\n",
    "2.it may cause a significant impact on the mean and standard deviation\n",
    " \n",
    "# Various Ways to finding the outlier.\n",
    "\n",
    "1.Using Scatter plot\n",
    "\n",
    "2.Box plot\n",
    "\n",
    "3.Using Z-Score\n",
    "\n",
    "4.Using The IQR-interquantile range\n"
   ]
  },
  {
   "cell_type": "code",
   "execution_count": 51,
   "id": "badd2f60",
   "metadata": {},
   "outputs": [],
   "source": [
    " dataset=[11,10,12,14,12,15,14,13,15,102,12,14,17,19,107, 10,13,12,14,12,108,12,11,14,13,15,10,15,12,10,14,13,15,10]"
   ]
  },
  {
   "cell_type": "markdown",
   "id": "9465ee6f",
   "metadata": {},
   "source": [
    "# Detecting outlier using Z score\n",
    "Using Z score\n",
    "\n",
    " Formula for Z score = (Observation — Mean)/Standard Deviation\n",
    "\n",
    "z = (X — μ) / σ"
   ]
  },
  {
   "cell_type": "code",
   "execution_count": 52,
   "id": "c211725e",
   "metadata": {},
   "outputs": [],
   "source": [
    "outliers=[]\n",
    "def detect_outliers(data):\n",
    "    \n",
    "    threshold=3\n",
    "    mean = np.mean(data)\n",
    "    std =np.std(data)\n",
    "    \n",
    "    \n",
    "    for i in data:\n",
    "        z_score= (i - mean)/std\n",
    "        if np.abs(z_score) > threshold:\n",
    "            outliers.append(i)\n",
    "    return outliers\n",
    "                "
   ]
  },
  {
   "cell_type": "code",
   "execution_count": 53,
   "id": "dd26667d",
   "metadata": {},
   "outputs": [],
   "source": [
    "outliers_pt=detect_outliers(dataset)"
   ]
  },
  {
   "cell_type": "code",
   "execution_count": 54,
   "id": "cf92caf2",
   "metadata": {},
   "outputs": [
    {
     "data": {
      "text/plain": [
       "[102, 107, 108]"
      ]
     },
     "execution_count": 54,
     "metadata": {},
     "output_type": "execute_result"
    }
   ],
   "source": [
    "outliers_pt"
   ]
  },
  {
   "cell_type": "markdown",
   "id": "25484d76",
   "metadata": {},
   "source": [
    "# InterQuantile Range\n",
    "75%- 25% values in a dataset\n",
    "\n",
    "Steps\n",
    "1. Arrange the data in increasing order\n",
    "2. Calculate first(q1) and third quartile(q3)\n",
    "3. Find interquartile range (q3-q1)\n",
    "4.Find lower bound q1*1.5\n",
    "5.Find upper bound q3*1.5\n",
    "Anything that lies outside of lower and upper bound is an outlier|"
   ]
  },
  {
   "cell_type": "code",
   "execution_count": 55,
   "id": "64b14e25",
   "metadata": {},
   "outputs": [
    {
     "data": {
      "text/plain": [
       "[10,\n",
       " 10,\n",
       " 10,\n",
       " 10,\n",
       " 10,\n",
       " 11,\n",
       " 11,\n",
       " 12,\n",
       " 12,\n",
       " 12,\n",
       " 12,\n",
       " 12,\n",
       " 12,\n",
       " 12,\n",
       " 13,\n",
       " 13,\n",
       " 13,\n",
       " 13,\n",
       " 14,\n",
       " 14,\n",
       " 14,\n",
       " 14,\n",
       " 14,\n",
       " 14,\n",
       " 15,\n",
       " 15,\n",
       " 15,\n",
       " 15,\n",
       " 15,\n",
       " 17,\n",
       " 19,\n",
       " 102,\n",
       " 107,\n",
       " 108]"
      ]
     },
     "execution_count": 55,
     "metadata": {},
     "output_type": "execute_result"
    }
   ],
   "source": [
    "sorted(dataset)"
   ]
  },
  {
   "cell_type": "code",
   "execution_count": 57,
   "id": "e7544684",
   "metadata": {},
   "outputs": [],
   "source": [
    "quantile1, quantile3= np.percentile(dataset,[25,75])"
   ]
  },
  {
   "cell_type": "code",
   "execution_count": 58,
   "id": "e7771f87",
   "metadata": {},
   "outputs": [
    {
     "name": "stdout",
     "output_type": "stream",
     "text": [
      "12.0 15.0\n"
     ]
    }
   ],
   "source": [
    "print(quantile1,quantile3)"
   ]
  },
  {
   "cell_type": "code",
   "execution_count": 59,
   "id": "fa563eb3",
   "metadata": {},
   "outputs": [
    {
     "name": "stdout",
     "output_type": "stream",
     "text": [
      "3.0\n"
     ]
    }
   ],
   "source": [
    "#Find the IQR\n",
    "\n",
    "iqr_value=quantile3-quantile1\n",
    "print(iqr_value)"
   ]
  },
  {
   "cell_type": "code",
   "execution_count": 63,
   "id": "9b78dbcd",
   "metadata": {},
   "outputs": [],
   "source": [
    "## Find the lower bound value and the higher bound value\n",
    "\n",
    "lower_bound_val = quantile1 -(1.5 * iqr_value)\n",
    "upper_bound_val = quantile3 +(1.5 * iqr_value)"
   ]
  },
  {
   "cell_type": "code",
   "execution_count": 64,
   "id": "ca913354",
   "metadata": {},
   "outputs": [
    {
     "name": "stdout",
     "output_type": "stream",
     "text": [
      "7.5 19.5\n"
     ]
    }
   ],
   "source": [
    "print(lower_bound_val,upper_bound_val)"
   ]
  },
  {
   "cell_type": "code",
   "execution_count": null,
   "id": "81a6cea4",
   "metadata": {},
   "outputs": [],
   "source": []
  }
 ],
 "metadata": {
  "kernelspec": {
   "display_name": "Python 3 (ipykernel)",
   "language": "python",
   "name": "python3"
  },
  "language_info": {
   "codemirror_mode": {
    "name": "ipython",
    "version": 3
   },
   "file_extension": ".py",
   "mimetype": "text/x-python",
   "name": "python",
   "nbconvert_exporter": "python",
   "pygments_lexer": "ipython3",
   "version": "3.9.12"
  }
 },
 "nbformat": 4,
 "nbformat_minor": 5
}
